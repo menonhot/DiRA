{
 "cells": [
  {
   "cell_type": "code",
   "execution_count": null,
   "metadata": {},
   "outputs": [],
   "source": [
    "import datetime\n",
    "import os"
   ]
  },
  {
   "cell_type": "code",
   "execution_count": null,
   "metadata": {},
   "outputs": [],
   "source": [
    "def getNow():\n",
    "    now = datetime.datetime.today()\n",
    "    return now\n",
    "def getYear():\n",
    "    now = getNow()\n",
    "    year = now.strftime('%Y') #yyyy\n",
    "    return year\n",
    "def getMonthFullName():\n",
    "    now = getNow()\n",
    "    month = now.strftime('%B') #Januari\n",
    "    return month\n",
    "def getDayDecimal():\n",
    "    now = getNow()\n",
    "    day = now.strftime('%d')\n",
    "    return day\n",
    "def getDate():\n",
    "    now = getNow()\n",
    "    rightNow = now.strftime('%d%m%Y') #ddmmyyyy\n",
    "    return rightNow\n",
    "def getFullDate():\n",
    "    now = getNow()\n",
    "    rightNow = now.strftime('%A, %d %B %Y') #Monday, dd Month yyyy\n",
    "    return rightNow\n",
    "def getDateSpace():\n",
    "    now = getNow()\n",
    "    rightNow = now.strftime('%d %B %Y') #dd Month yyyy\n",
    "    return rightNow\n",
    "def getDatum():\n",
    "    now = getNow()\n",
    "    rightNow= now.strftime('%d-%m-%Y %H.%M') #dd-mm-yyyy hh.mm\n",
    "    return rightNow"
   ]
  },
  {
   "cell_type": "code",
   "execution_count": null,
   "metadata": {},
   "outputs": [],
   "source": []
  }
 ],
 "metadata": {
  "kernelspec": {
   "display_name": "Python 3",
   "language": "python",
   "name": "python3"
  },
  "language_info": {
   "codemirror_mode": {
    "name": "ipython",
    "version": 3
   },
   "file_extension": ".py",
   "mimetype": "text/x-python",
   "name": "python",
   "nbconvert_exporter": "python",
   "pygments_lexer": "ipython3",
   "version": "3.6.0"
  }
 },
 "nbformat": 4,
 "nbformat_minor": 2
}
