{
 "cells": [
  {
   "cell_type": "code",
   "execution_count": 1,
   "metadata": {},
   "outputs": [],
   "source": [
    "import datetime\n",
    "import os\n",
    "import sys\n",
    "from allDateFormat import getNow"
   ]
  },
  {
   "cell_type": "code",
   "execution_count": 5,
   "metadata": {},
   "outputs": [],
   "source": [
    "def structFolder():\n",
    "    now = getNow()\n",
    "    thisYear = now.strftime('%Y')\n",
    "    thisMonth= now.strftime('%B')\n",
    "    thisDay = now.strftime('%d')\n",
    "    # makeStructuredFolder\n",
    "    yyPath = '%s' % thisYear\n",
    "    if not os.path.exists(yyPath):\n",
    "        os.makedirs(yyPath)\n",
    "    mmPath = '%s/%s' % (thisYear, thisMonth)\n",
    "    if not os.path.exists(mmPath):\n",
    "        os.makedirs(mmPath)\n",
    "    ddPath = '%s/%s/%s' % (thisYear, thisMonth, thisDay)\n",
    "    if not os.path.exists(ddPath):\n",
    "        os.makedirs(ddPath)\n",
    "    print('Folders created successfully')\n",
    "    return ddPath"
   ]
  }
 ],
 "metadata": {
  "kernelspec": {
   "display_name": "Python 3",
   "language": "python",
   "name": "python3"
  },
  "language_info": {
   "codemirror_mode": {
    "name": "ipython",
    "version": 3
   },
   "file_extension": ".py",
   "mimetype": "text/x-python",
   "name": "python",
   "nbconvert_exporter": "python",
   "pygments_lexer": "ipython3",
   "version": "3.6.0"
  }
 },
 "nbformat": 4,
 "nbformat_minor": 2
}
